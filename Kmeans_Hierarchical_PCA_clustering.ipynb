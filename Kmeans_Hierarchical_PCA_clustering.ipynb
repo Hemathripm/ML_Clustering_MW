{
 "cells": [
  {
   "cell_type": "code",
   "execution_count": 76,
   "metadata": {
    "exercise": false
   },
   "outputs": [],
   "source": [
    "import pandas as pd\n",
    "\n",
    "seeds_df = pd.read_csv('data_seeds.csv')\n",
    "\n",
    "# extract the grain varieties from the dataframe\n",
    "varieties = list(seeds_df['grain_variety'])\n",
    "del seeds_df['grain_variety']\n",
    "\n",
    "samples = seeds_df.values"
   ]
  },
  {
   "cell_type": "code",
   "execution_count": 12,
   "metadata": {},
   "outputs": [
    {
     "data": {
      "text/html": [
       "<div>\n",
       "<style scoped>\n",
       "    .dataframe tbody tr th:only-of-type {\n",
       "        vertical-align: middle;\n",
       "    }\n",
       "\n",
       "    .dataframe tbody tr th {\n",
       "        vertical-align: top;\n",
       "    }\n",
       "\n",
       "    .dataframe thead th {\n",
       "        text-align: right;\n",
       "    }\n",
       "</style>\n",
       "<table border=\"1\" class=\"dataframe\">\n",
       "  <thead>\n",
       "    <tr style=\"text-align: right;\">\n",
       "      <th></th>\n",
       "      <th>area</th>\n",
       "      <th>perimeter</th>\n",
       "      <th>compactness</th>\n",
       "      <th>length</th>\n",
       "      <th>width</th>\n",
       "      <th>asymmetry_coefficient</th>\n",
       "      <th>groove_length</th>\n",
       "    </tr>\n",
       "  </thead>\n",
       "  <tbody>\n",
       "    <tr>\n",
       "      <th>0</th>\n",
       "      <td>15.26</td>\n",
       "      <td>14.84</td>\n",
       "      <td>0.8710</td>\n",
       "      <td>5.763</td>\n",
       "      <td>3.312</td>\n",
       "      <td>2.221</td>\n",
       "      <td>5.220</td>\n",
       "    </tr>\n",
       "    <tr>\n",
       "      <th>1</th>\n",
       "      <td>14.88</td>\n",
       "      <td>14.57</td>\n",
       "      <td>0.8811</td>\n",
       "      <td>5.554</td>\n",
       "      <td>3.333</td>\n",
       "      <td>1.018</td>\n",
       "      <td>4.956</td>\n",
       "    </tr>\n",
       "    <tr>\n",
       "      <th>2</th>\n",
       "      <td>14.29</td>\n",
       "      <td>14.09</td>\n",
       "      <td>0.9050</td>\n",
       "      <td>5.291</td>\n",
       "      <td>3.337</td>\n",
       "      <td>2.699</td>\n",
       "      <td>4.825</td>\n",
       "    </tr>\n",
       "    <tr>\n",
       "      <th>3</th>\n",
       "      <td>13.84</td>\n",
       "      <td>13.94</td>\n",
       "      <td>0.8955</td>\n",
       "      <td>5.324</td>\n",
       "      <td>3.379</td>\n",
       "      <td>2.259</td>\n",
       "      <td>4.805</td>\n",
       "    </tr>\n",
       "    <tr>\n",
       "      <th>4</th>\n",
       "      <td>16.14</td>\n",
       "      <td>14.99</td>\n",
       "      <td>0.9034</td>\n",
       "      <td>5.658</td>\n",
       "      <td>3.562</td>\n",
       "      <td>1.355</td>\n",
       "      <td>5.175</td>\n",
       "    </tr>\n",
       "  </tbody>\n",
       "</table>\n",
       "</div>"
      ],
      "text/plain": [
       "    area  perimeter  compactness  length  width  asymmetry_coefficient  \\\n",
       "0  15.26      14.84       0.8710   5.763  3.312                  2.221   \n",
       "1  14.88      14.57       0.8811   5.554  3.333                  1.018   \n",
       "2  14.29      14.09       0.9050   5.291  3.337                  2.699   \n",
       "3  13.84      13.94       0.8955   5.324  3.379                  2.259   \n",
       "4  16.14      14.99       0.9034   5.658  3.562                  1.355   \n",
       "\n",
       "   groove_length  \n",
       "0          5.220  \n",
       "1          4.956  \n",
       "2          4.825  \n",
       "3          4.805  \n",
       "4          5.175  "
      ]
     },
     "execution_count": 12,
     "metadata": {},
     "output_type": "execute_result"
    }
   ],
   "source": [
    "seeds_df.head()"
   ]
  },
  {
   "cell_type": "code",
   "execution_count": 4,
   "metadata": {},
   "outputs": [],
   "source": [
    "from sklearn.cluster import KMeans"
   ]
  },
  {
   "cell_type": "code",
   "execution_count": 199,
   "metadata": {},
   "outputs": [],
   "source": [
    "model = KMeans(n_clusters=3)"
   ]
  },
  {
   "cell_type": "code",
   "execution_count": 200,
   "metadata": {},
   "outputs": [],
   "source": [
    "labels = model.fit_predict(samples)"
   ]
  },
  {
   "cell_type": "code",
   "execution_count": 201,
   "metadata": {},
   "outputs": [
    {
     "data": {
      "text/plain": [
       "array([2, 2, 2, 2, 2, 2, 2, 2, 2, 2, 2, 2, 2, 2, 2, 2, 0, 2, 2, 0, 2, 2,\n",
       "       2, 2, 2, 2, 0, 2, 2, 2, 2, 2, 2, 2, 2, 2, 2, 1, 2, 0, 2, 2, 2, 2,\n",
       "       2, 2, 2, 2, 2, 2, 2, 2, 2, 2, 2, 2, 2, 2, 2, 2, 0, 0, 0, 0, 2, 2,\n",
       "       2, 2, 2, 0, 1, 1, 1, 1, 1, 1, 1, 1, 1, 1, 1, 1, 1, 1, 1, 1, 1, 1,\n",
       "       1, 1, 1, 1, 1, 1, 1, 1, 1, 1, 1, 1, 2, 1, 1, 1, 1, 1, 1, 1, 1, 1,\n",
       "       1, 1, 1, 1, 1, 1, 1, 1, 1, 1, 1, 1, 2, 1, 2, 1, 1, 1, 1, 1, 1, 1,\n",
       "       2, 2, 2, 2, 1, 2, 2, 2, 0, 0, 0, 0, 0, 0, 0, 0, 0, 0, 0, 0, 0, 0,\n",
       "       0, 0, 0, 0, 0, 0, 0, 0, 0, 0, 0, 0, 0, 0, 0, 0, 0, 0, 0, 0, 0, 0,\n",
       "       0, 0, 0, 2, 0, 0, 0, 0, 0, 0, 0, 0, 0, 0, 0, 0, 0, 0, 0, 0, 0, 0,\n",
       "       0, 0, 0, 2, 0, 0, 0, 0, 0, 0, 0, 0])"
      ]
     },
     "execution_count": 201,
     "metadata": {},
     "output_type": "execute_result"
    }
   ],
   "source": [
    "labels"
   ]
  },
  {
   "cell_type": "code",
   "execution_count": 202,
   "metadata": {},
   "outputs": [],
   "source": [
    "df = pd.DataFrame({'labels': labels, 'varieties': varieties})"
   ]
  },
  {
   "cell_type": "code",
   "execution_count": 203,
   "metadata": {},
   "outputs": [],
   "source": [
    "ct = pd.crosstab(df['labels'], df['varieties'])"
   ]
  },
  {
   "cell_type": "code",
   "execution_count": 204,
   "metadata": {},
   "outputs": [
    {
     "data": {
      "text/html": [
       "<div>\n",
       "<style scoped>\n",
       "    .dataframe tbody tr th:only-of-type {\n",
       "        vertical-align: middle;\n",
       "    }\n",
       "\n",
       "    .dataframe tbody tr th {\n",
       "        vertical-align: top;\n",
       "    }\n",
       "\n",
       "    .dataframe thead th {\n",
       "        text-align: right;\n",
       "    }\n",
       "</style>\n",
       "<table border=\"1\" class=\"dataframe\">\n",
       "  <thead>\n",
       "    <tr style=\"text-align: right;\">\n",
       "      <th>varieties</th>\n",
       "      <th>Canadian wheat</th>\n",
       "      <th>Kama wheat</th>\n",
       "      <th>Rosa wheat</th>\n",
       "    </tr>\n",
       "    <tr>\n",
       "      <th>labels</th>\n",
       "      <th></th>\n",
       "      <th></th>\n",
       "      <th></th>\n",
       "    </tr>\n",
       "  </thead>\n",
       "  <tbody>\n",
       "    <tr>\n",
       "      <th>0</th>\n",
       "      <td>68</td>\n",
       "      <td>9</td>\n",
       "      <td>0</td>\n",
       "    </tr>\n",
       "    <tr>\n",
       "      <th>1</th>\n",
       "      <td>0</td>\n",
       "      <td>1</td>\n",
       "      <td>60</td>\n",
       "    </tr>\n",
       "    <tr>\n",
       "      <th>2</th>\n",
       "      <td>2</td>\n",
       "      <td>60</td>\n",
       "      <td>10</td>\n",
       "    </tr>\n",
       "  </tbody>\n",
       "</table>\n",
       "</div>"
      ],
      "text/plain": [
       "varieties  Canadian wheat  Kama wheat  Rosa wheat\n",
       "labels                                           \n",
       "0                      68           9           0\n",
       "1                       0           1          60\n",
       "2                       2          60          10"
      ]
     },
     "execution_count": 204,
     "metadata": {},
     "output_type": "execute_result"
    }
   ],
   "source": [
    "ct"
   ]
  },
  {
   "cell_type": "code",
   "execution_count": 17,
   "metadata": {},
   "outputs": [
    {
     "data": {
      "text/html": [
       "<div>\n",
       "<style>\n",
       "    .dataframe thead tr:only-child th {\n",
       "        text-align: right;\n",
       "    }\n",
       "\n",
       "    .dataframe thead th {\n",
       "        text-align: left;\n",
       "    }\n",
       "\n",
       "    .dataframe tbody tr th {\n",
       "        vertical-align: top;\n",
       "    }\n",
       "</style>\n",
       "<table border=\"1\" class=\"dataframe\">\n",
       "  <thead>\n",
       "    <tr style=\"text-align: right;\">\n",
       "      <th></th>\n",
       "      <th>labels</th>\n",
       "      <th>varieties</th>\n",
       "    </tr>\n",
       "  </thead>\n",
       "  <tbody>\n",
       "    <tr>\n",
       "      <th>0</th>\n",
       "      <td>1</td>\n",
       "      <td>Kama wheat</td>\n",
       "    </tr>\n",
       "    <tr>\n",
       "      <th>1</th>\n",
       "      <td>1</td>\n",
       "      <td>Kama wheat</td>\n",
       "    </tr>\n",
       "    <tr>\n",
       "      <th>2</th>\n",
       "      <td>1</td>\n",
       "      <td>Kama wheat</td>\n",
       "    </tr>\n",
       "    <tr>\n",
       "      <th>3</th>\n",
       "      <td>1</td>\n",
       "      <td>Kama wheat</td>\n",
       "    </tr>\n",
       "    <tr>\n",
       "      <th>4</th>\n",
       "      <td>1</td>\n",
       "      <td>Kama wheat</td>\n",
       "    </tr>\n",
       "  </tbody>\n",
       "</table>\n",
       "</div>"
      ],
      "text/plain": [
       "   labels   varieties\n",
       "0       1  Kama wheat\n",
       "1       1  Kama wheat\n",
       "2       1  Kama wheat\n",
       "3       1  Kama wheat\n",
       "4       1  Kama wheat"
      ]
     },
     "execution_count": 17,
     "metadata": {},
     "output_type": "execute_result"
    }
   ],
   "source": [
    "df.head()"
   ]
  },
  {
   "cell_type": "code",
   "execution_count": 33,
   "metadata": {},
   "outputs": [],
   "source": [
    "centroid=model.cluster_centers_"
   ]
  },
  {
   "cell_type": "code",
   "execution_count": 35,
   "metadata": {},
   "outputs": [],
   "source": [
    "\n",
    "cent=pd.DataFrame(centroid)"
   ]
  },
  {
   "cell_type": "code",
   "execution_count": 36,
   "metadata": {},
   "outputs": [
    {
     "data": {
      "image/png": "[encoded data removed]",
      "text/plain": [
       "<Figure size 432x288 with 1 Axes>"
      ]
     },
     "metadata": {},
     "output_type": "display_data"
    }
   ],
   "source": [
    "import matplotlib.pyplot as plt\n",
    "plt.scatter(seeds_df['length'], seeds_df['width'], c=labels)\n",
    "plt.scatter(cent.iloc[:,3],cent.iloc[:,4], s=200, c='g', marker='s')\n",
    "plt.show()"
   ]
  },
  {
   "cell_type": "code",
   "execution_count": 11,
   "metadata": {},
   "outputs": [],
   "source": [
    "x=(60+68+60)/(60+68+60+22)"
   ]
  },
  {
   "cell_type": "code",
   "execution_count": 12,
   "metadata": {},
   "outputs": [
    {
     "data": {
      "text/plain": [
       "0.8952380952380953"
      ]
     },
     "execution_count": 12,
     "metadata": {},
     "output_type": "execute_result"
    }
   ],
   "source": [
    "x"
   ]
  },
  {
   "cell_type": "code",
   "execution_count": 64,
   "metadata": {},
   "outputs": [
    {
     "data": {
      "image/png": "[encoded data removed]",
      "text/plain": [
       "<Figure size 720x504 with 1 Axes>"
      ]
     },
     "metadata": {},
     "output_type": "display_data"
    }
   ],
   "source": [
    "import scipy.cluster.hierarchy as shc\n",
    "plt.figure(figsize=(10, 7))  \n",
    "plt.title(\"Dendrograms\")  \n",
    "dend = shc.dendrogram(shc.linkage(samples, method='average'))"
   ]
  },
  {
   "cell_type": "code",
   "execution_count": 63,
   "metadata": {},
   "outputs": [
    {
     "data": {
      "text/plain": [
       "<matplotlib.lines.Line2D at 0x1241826eda0>"
      ]
     },
     "execution_count": 63,
     "metadata": {},
     "output_type": "execute_result"
    },
    {
     "data": {
      "image/png": "[encoded data removed]",
      "text/plain": [
       "<Figure size 720x504 with 1 Axes>"
      ]
     },
     "metadata": {},
     "output_type": "display_data"
    }
   ],
   "source": [
    "plt.figure(figsize=(10, 7))  \n",
    "plt.title(\"Dendrograms\")  \n",
    "dend = shc.dendrogram(shc.linkage(samples, method='average'))\n",
    "plt.axhline(y=3.7, color='r', linestyle='--')"
   ]
  },
  {
   "cell_type": "code",
   "execution_count": 205,
   "metadata": {},
   "outputs": [
    {
     "data": {
      "text/plain": [
       "array([2, 2, 2, 2, 2, 2, 2, 2, 2, 2, 2, 2, 2, 2, 2, 2, 2, 2, 2, 0, 2, 2,\n",
       "       2, 2, 2, 2, 2, 2, 2, 2, 2, 2, 2, 2, 2, 2, 2, 1, 2, 0, 2, 2, 2, 2,\n",
       "       2, 2, 2, 2, 2, 2, 2, 2, 2, 2, 2, 2, 2, 2, 2, 2, 2, 2, 0, 2, 2, 2,\n",
       "       2, 2, 2, 2, 1, 1, 1, 1, 1, 1, 1, 1, 1, 1, 1, 1, 1, 1, 1, 1, 1, 1,\n",
       "       1, 1, 1, 1, 1, 1, 1, 1, 1, 1, 1, 1, 1, 1, 1, 1, 1, 1, 1, 1, 1, 1,\n",
       "       1, 1, 1, 1, 1, 1, 1, 1, 1, 1, 1, 1, 1, 1, 2, 1, 1, 1, 1, 1, 1, 1,\n",
       "       2, 1, 2, 2, 1, 2, 2, 1, 0, 0, 0, 0, 0, 0, 2, 0, 2, 0, 0, 0, 0, 0,\n",
       "       0, 0, 0, 0, 0, 0, 2, 0, 0, 0, 0, 2, 0, 0, 0, 0, 0, 0, 0, 0, 0, 0,\n",
       "       0, 0, 0, 2, 0, 0, 0, 0, 0, 0, 0, 0, 0, 0, 0, 0, 0, 0, 0, 0, 0, 2,\n",
       "       2, 2, 0, 2, 0, 0, 0, 0, 0, 0, 0, 0], dtype=int64)"
      ]
     },
     "execution_count": 205,
     "metadata": {},
     "output_type": "execute_result"
    }
   ],
   "source": [
    "from sklearn.cluster import AgglomerativeClustering\n",
    "cluster = AgglomerativeClustering(n_clusters=3, affinity='euclidean', linkage='average')  \n",
    "cluster.fit_predict(samples)\n"
   ]
  },
  {
   "cell_type": "code",
   "execution_count": 206,
   "metadata": {},
   "outputs": [],
   "source": [
    "label_pred=cluster.fit_predict(samples)\n",
    "df = pd.DataFrame({'labels': label_pred, 'varieties': varieties})"
   ]
  },
  {
   "cell_type": "code",
   "execution_count": 207,
   "metadata": {},
   "outputs": [],
   "source": [
    "ct = pd.crosstab(df['labels'], df['varieties'])"
   ]
  },
  {
   "cell_type": "code",
   "execution_count": 208,
   "metadata": {},
   "outputs": [
    {
     "data": {
      "text/plain": [
       "Canadian wheat    70\n",
       "Kama wheat        70\n",
       "Rosa wheat        70\n",
       "Name: varieties, dtype: int64"
      ]
     },
     "execution_count": 208,
     "metadata": {},
     "output_type": "execute_result"
    }
   ],
   "source": [
    "df['varieties'].value_counts()"
   ]
  },
  {
   "cell_type": "code",
   "execution_count": 209,
   "metadata": {},
   "outputs": [
    {
     "data": {
      "text/html": [
       "<div>\n",
       "<style scoped>\n",
       "    .dataframe tbody tr th:only-of-type {\n",
       "        vertical-align: middle;\n",
       "    }\n",
       "\n",
       "    .dataframe tbody tr th {\n",
       "        vertical-align: top;\n",
       "    }\n",
       "\n",
       "    .dataframe thead th {\n",
       "        text-align: right;\n",
       "    }\n",
       "</style>\n",
       "<table border=\"1\" class=\"dataframe\">\n",
       "  <thead>\n",
       "    <tr style=\"text-align: right;\">\n",
       "      <th>varieties</th>\n",
       "      <th>Canadian wheat</th>\n",
       "      <th>Kama wheat</th>\n",
       "      <th>Rosa wheat</th>\n",
       "    </tr>\n",
       "    <tr>\n",
       "      <th>labels</th>\n",
       "      <th></th>\n",
       "      <th></th>\n",
       "      <th></th>\n",
       "    </tr>\n",
       "  </thead>\n",
       "  <tbody>\n",
       "    <tr>\n",
       "      <th>0</th>\n",
       "      <td>61</td>\n",
       "      <td>3</td>\n",
       "      <td>0</td>\n",
       "    </tr>\n",
       "    <tr>\n",
       "      <th>1</th>\n",
       "      <td>0</td>\n",
       "      <td>1</td>\n",
       "      <td>64</td>\n",
       "    </tr>\n",
       "    <tr>\n",
       "      <th>2</th>\n",
       "      <td>9</td>\n",
       "      <td>66</td>\n",
       "      <td>6</td>\n",
       "    </tr>\n",
       "  </tbody>\n",
       "</table>\n",
       "</div>"
      ],
      "text/plain": [
       "varieties  Canadian wheat  Kama wheat  Rosa wheat\n",
       "labels                                           \n",
       "0                      61           3           0\n",
       "1                       0           1          64\n",
       "2                       9          66           6"
      ]
     },
     "execution_count": 209,
     "metadata": {},
     "output_type": "execute_result"
    }
   ],
   "source": [
    "ct"
   ]
  },
  {
   "cell_type": "code",
   "execution_count": 60,
   "metadata": {},
   "outputs": [
    {
     "data": {
      "text/plain": [
       "0.9095238095238095"
      ]
     },
     "execution_count": 60,
     "metadata": {},
     "output_type": "execute_result"
    }
   ],
   "source": [
    "(61+64+66)/(70+54+63+23)"
   ]
  },
  {
   "cell_type": "code",
   "execution_count": 66,
   "metadata": {},
   "outputs": [
    {
     "data": {
      "text/plain": [
       "array([2, 2, 2, 2, 2, 2, 2, 2, 2, 2, 2, 2, 2, 2, 2, 2, 2, 2, 2, 0, 2, 2,\n",
       "       2, 2, 2, 2, 2, 2, 2, 2, 2, 2, 2, 2, 2, 2, 2, 1, 2, 0, 2, 2, 2, 2,\n",
       "       2, 2, 2, 2, 2, 2, 2, 2, 2, 2, 2, 2, 2, 2, 2, 2, 2, 2, 0, 2, 2, 2,\n",
       "       2, 2, 2, 2, 1, 1, 1, 1, 1, 1, 1, 1, 1, 1, 1, 1, 1, 1, 1, 1, 1, 1,\n",
       "       1, 1, 1, 1, 1, 1, 1, 1, 1, 1, 1, 1, 1, 1, 1, 1, 1, 1, 1, 1, 1, 1,\n",
       "       1, 1, 1, 1, 1, 1, 1, 1, 1, 1, 1, 1, 1, 1, 2, 1, 1, 1, 1, 1, 1, 1,\n",
       "       2, 1, 2, 2, 1, 2, 2, 1, 0, 0, 0, 0, 0, 0, 2, 0, 2, 0, 0, 0, 0, 0,\n",
       "       0, 0, 0, 0, 0, 0, 2, 0, 0, 0, 0, 2, 0, 0, 0, 0, 0, 0, 0, 0, 0, 0,\n",
       "       0, 0, 0, 2, 0, 0, 0, 0, 0, 0, 0, 0, 0, 0, 0, 0, 0, 0, 0, 0, 0, 2,\n",
       "       2, 2, 0, 2, 0, 0, 0, 0, 0, 0, 0, 0], dtype=int64)"
      ]
     },
     "execution_count": 66,
     "metadata": {},
     "output_type": "execute_result"
    }
   ],
   "source": [
    "#centroid=\n",
    "cluster.labels_\n",
    "#cent=pd.DataFrame(centroid)"
   ]
  },
  {
   "cell_type": "code",
   "execution_count": 69,
   "metadata": {},
   "outputs": [
    {
     "data": {
      "text/plain": [
       "<matplotlib.collections.PathCollection at 0x124196bc908>"
      ]
     },
     "execution_count": 69,
     "metadata": {},
     "output_type": "execute_result"
    },
    {
     "data": {
      "image/png": "[encoded data removed]",
      "text/plain": [
       "<Figure size 720x504 with 1 Axes>"
      ]
     },
     "metadata": {},
     "output_type": "display_data"
    }
   ],
   "source": [
    "plt.figure(figsize=(10, 7))  \n",
    "plt.scatter(seeds_df['length'], seeds_df['width'], c=cluster.labels_) "
   ]
  },
  {
   "cell_type": "markdown",
   "metadata": {},
   "source": [
    "### PCA"
   ]
  },
  {
   "cell_type": "code",
   "execution_count": 77,
   "metadata": {},
   "outputs": [],
   "source": [
    "#Standarization\n",
    "from sklearn.preprocessing import StandardScaler\n",
    "X_std = StandardScaler().fit_transform(seeds_df)"
   ]
  },
  {
   "cell_type": "code",
   "execution_count": 82,
   "metadata": {},
   "outputs": [
    {
     "name": "stdout",
     "output_type": "stream",
     "text": [
      "Covariance matrix \n",
      "[[ 1.00478469  0.99909854  0.61119889  0.9545308   0.97541544 -0.23067077\n",
      "   0.86782525]\n",
      " [ 0.99909854  1.00478469  0.53177587  0.97707507  0.94935008 -0.21838028\n",
      "   0.89504603]\n",
      " [ 0.61119889  0.53177587  1.00478469  0.36967551  0.7652787  -0.33305686\n",
      "   0.22791011]\n",
      " [ 0.9545308   0.97707507  0.36967551  1.00478469  0.86453176 -0.1723833\n",
      "   0.93726927]\n",
      " [ 0.97541544  0.94935008  0.7652787   0.86453176  1.00478469 -0.25927117\n",
      "   0.75271583]\n",
      " [-0.23067077 -0.21838028 -0.33305686 -0.1723833  -0.25927117  1.00478469\n",
      "  -0.01113203]\n",
      " [ 0.86782525  0.89504603  0.22791011  0.93726927  0.75271583 -0.01113203\n",
      "   1.00478469]]\n"
     ]
    }
   ],
   "source": [
    "import numpy as np\n",
    "mean_vec = np.mean(X_std, axis=0)\n",
    "cov_mat = (X_std - mean_vec).T.dot((X_std - mean_vec)) / (X_std.shape[0]-1)\n",
    "print('Covariance matrix \\n%s' %cov_mat)"
   ]
  },
  {
   "cell_type": "code",
   "execution_count": 83,
   "metadata": {},
   "outputs": [
    {
     "name": "stdout",
     "output_type": "stream",
     "text": [
      "NumPy covariance matrix: \n",
      "[[ 1.00478469  0.99909854  0.61119889  0.9545308   0.97541544 -0.23067077\n",
      "   0.86782525]\n",
      " [ 0.99909854  1.00478469  0.53177587  0.97707507  0.94935008 -0.21838028\n",
      "   0.89504603]\n",
      " [ 0.61119889  0.53177587  1.00478469  0.36967551  0.7652787  -0.33305686\n",
      "   0.22791011]\n",
      " [ 0.9545308   0.97707507  0.36967551  1.00478469  0.86453176 -0.1723833\n",
      "   0.93726927]\n",
      " [ 0.97541544  0.94935008  0.7652787   0.86453176  1.00478469 -0.25927117\n",
      "   0.75271583]\n",
      " [-0.23067077 -0.21838028 -0.33305686 -0.1723833  -0.25927117  1.00478469\n",
      "  -0.01113203]\n",
      " [ 0.86782525  0.89504603  0.22791011  0.93726927  0.75271583 -0.01113203\n",
      "   1.00478469]]\n"
     ]
    }
   ],
   "source": [
    "print('NumPy covariance matrix: \\n%s' %np.cov(X_std.T))"
   ]
  },
  {
   "cell_type": "code",
   "execution_count": 84,
   "metadata": {},
   "outputs": [
    {
     "name": "stdout",
     "output_type": "stream",
     "text": [
      "Eigenvectors \n",
      "[[ 0.44447352  0.02656355 -0.02587094  0.19363997  0.20441167 -0.73480569\n",
      "  -0.42643686]\n",
      " [ 0.44157147  0.08400282  0.05983912  0.29545659  0.17427591  0.67075153\n",
      "  -0.47623853]\n",
      " [ 0.27701737 -0.52915125 -0.62969178 -0.3328164  -0.33265481  0.0725527\n",
      "  -0.14162884]\n",
      " [ 0.42356333  0.20597518  0.21187966  0.26340659 -0.76609839 -0.04627605\n",
      "   0.27357647]\n",
      " [ 0.43281866 -0.11668963 -0.21648338  0.19963039  0.46536555  0.03928908\n",
      "   0.70301171]\n",
      " [-0.11869248  0.71688203 -0.67950584  0.09246481 -0.03625822  0.00372346\n",
      "  -0.01964186]\n",
      " [ 0.38716084  0.37719327  0.2138972  -0.80414995  0.11134657  0.0344981\n",
      "   0.04282974]]\n",
      "\n",
      "Eigenvalues \n",
      "[5.05527392e+00 1.20330286e+00 6.81247474e-01 6.86915798e-02\n",
      " 1.88031478e-02 8.16283865e-04 5.35755786e-03]\n"
     ]
    }
   ],
   "source": [
    "#Covariance Matrix\n",
    "cov_mat = np.cov(X_std.T)\n",
    "\n",
    "eig_vals, eig_vecs = np.linalg.eig(cov_mat)\n",
    "\n",
    "print('Eigenvectors \\n%s' %eig_vecs)\n",
    "print('\\nEigenvalues \\n%s' %eig_vals)"
   ]
  },
  {
   "cell_type": "code",
   "execution_count": 85,
   "metadata": {},
   "outputs": [
    {
     "name": "stdout",
     "output_type": "stream",
     "text": [
      "Eigenvectors \n",
      "[[ 0.44447352  0.02656355 -0.02587094  0.19363997  0.20441167 -0.73480569\n",
      "  -0.42643686]\n",
      " [ 0.44157147  0.08400282  0.05983912  0.29545659  0.17427591  0.67075153\n",
      "  -0.47623853]\n",
      " [ 0.27701737 -0.52915125 -0.62969178 -0.3328164  -0.33265481  0.0725527\n",
      "  -0.14162884]\n",
      " [ 0.42356333  0.20597518  0.21187966  0.26340659 -0.76609839 -0.04627605\n",
      "   0.27357647]\n",
      " [ 0.43281866 -0.11668963 -0.21648338  0.19963039  0.46536555  0.03928908\n",
      "   0.70301171]\n",
      " [-0.11869248  0.71688203 -0.67950584  0.09246481 -0.03625822  0.00372346\n",
      "  -0.01964186]\n",
      " [ 0.38716084  0.37719327  0.2138972  -0.80414995  0.11134657  0.0344981\n",
      "   0.04282974]]\n",
      "\n",
      "Eigenvalues \n",
      "[5.03120119e+00 1.19757285e+00 6.78003439e-01 6.83644770e-02\n",
      " 1.87136090e-02 8.12396799e-04 5.33204568e-03]\n"
     ]
    }
   ],
   "source": [
    "#Correlation Matrix\n",
    "cor_mat1 = np.corrcoef(X_std.T)\n",
    "\n",
    "eig_vals, eig_vecs = np.linalg.eig(cor_mat1)\n",
    "\n",
    "print('Eigenvectors \\n%s' %eig_vecs)\n",
    "print('\\nEigenvalues \\n%s' %eig_vals)"
   ]
  },
  {
   "cell_type": "code",
   "execution_count": 78,
   "metadata": {},
   "outputs": [],
   "source": [
    "#Cross Checking  whether eigen vector arrived from covariance or correlation is correct using SVD\n",
    "import numpy as np\n",
    "u,s,v = np.linalg.svd(X_std.T)"
   ]
  },
  {
   "cell_type": "code",
   "execution_count": 116,
   "metadata": {},
   "outputs": [
    {
     "data": {
      "text/plain": [
       "array([[-0.44447352, -0.02656355,  0.02587094, -0.19363997,  0.20441167,\n",
       "         0.42643686, -0.73480569],\n",
       "       [-0.44157147, -0.08400282, -0.05983912, -0.29545659,  0.17427591,\n",
       "         0.47623853,  0.67075153],\n",
       "       [-0.27701737,  0.52915125,  0.62969178,  0.3328164 , -0.33265481,\n",
       "         0.14162884,  0.0725527 ],\n",
       "       [-0.42356333, -0.20597518, -0.21187966, -0.26340659, -0.76609839,\n",
       "        -0.27357647, -0.04627605],\n",
       "       [-0.43281866,  0.11668963,  0.21648338, -0.19963039,  0.46536555,\n",
       "        -0.70301171,  0.03928908],\n",
       "       [ 0.11869248, -0.71688203,  0.67950584, -0.09246481, -0.03625822,\n",
       "         0.01964186,  0.00372346],\n",
       "       [-0.38716084, -0.37719327, -0.2138972 ,  0.80414995,  0.11134657,\n",
       "        -0.04282974,  0.0344981 ]])"
      ]
     },
     "execution_count": 116,
     "metadata": {},
     "output_type": "execute_result"
    }
   ],
   "source": [
    "u"
   ]
  },
  {
   "cell_type": "code",
   "execution_count": 80,
   "metadata": {},
   "outputs": [
    {
     "data": {
      "text/plain": [
       "array([32.50464965, 15.85844563, 11.93233934,  3.78900253,  1.98238692,\n",
       "        1.05817276,  0.41304156])"
      ]
     },
     "execution_count": 80,
     "metadata": {},
     "output_type": "execute_result"
    }
   ],
   "source": [
    "s"
   ]
  },
  {
   "cell_type": "code",
   "execution_count": 81,
   "metadata": {},
   "outputs": [
    {
     "data": {
      "text/plain": [
       "array([[-9.75389845e-03,  1.04175180e-04,  1.41346960e-02, ...,\n",
       "         4.31825238e-02,  7.19690195e-02,  6.01745581e-02],\n",
       "       [ 4.94165086e-02,  1.20643203e-01,  1.20265586e-01, ...,\n",
       "        -8.18864985e-02,  6.28678866e-03, -3.31098769e-02],\n",
       "       [-5.28823388e-02, -5.61293506e-02,  7.81480305e-02, ...,\n",
       "         2.43524031e-01, -3.20570094e-02,  8.49048435e-02],\n",
       "       ...,\n",
       "       [ 5.57540043e-02, -6.06051540e-02, -5.86012329e-02, ...,\n",
       "         9.17597802e-01,  1.21387713e-02, -2.85699702e-02],\n",
       "       [ 7.44655444e-02, -7.04823710e-03,  2.85522223e-02, ...,\n",
       "         1.26928082e-02,  9.89020006e-01,  3.67647880e-04],\n",
       "       [ 6.54336106e-02, -2.72114330e-02, -8.67834993e-03, ...,\n",
       "        -2.62813637e-02, -4.54054287e-04,  9.83788515e-01]])"
      ]
     },
     "execution_count": 81,
     "metadata": {},
     "output_type": "execute_result"
    }
   ],
   "source": [
    "v"
   ]
  },
  {
   "cell_type": "code",
   "execution_count": 86,
   "metadata": {},
   "outputs": [],
   "source": [
    "for ev in eig_vecs.T:\n",
    "    np.testing.assert_array_almost_equal(1.0, np.linalg.norm(ev))"
   ]
  },
  {
   "cell_type": "code",
   "execution_count": 87,
   "metadata": {},
   "outputs": [
    {
     "name": "stdout",
     "output_type": "stream",
     "text": [
      "Eigenvalues in descending order:\n",
      "5.031201185972806\n",
      "1.1975728469710651\n",
      "0.6780034385804469\n",
      "0.06836447699210847\n",
      "0.018713609002734926\n",
      "0.0053320456813728025\n",
      "0.0008123967994738842\n"
     ]
    }
   ],
   "source": [
    "# Make a list of (eigenvalue, eigenvector) tuples\n",
    "eig_pairs = [(np.abs(eig_vals[i]), eig_vecs[:,i]) for i in range(len(eig_vals))]\n",
    "\n",
    "# Sort the (eigenvalue, eigenvector) tuples from high to low\n",
    "eig_pairs.sort(key=lambda x: x[0], reverse=True)\n",
    "\n",
    "# Visually confirm that the list is correctly sorted by decreasing eigenvalues\n",
    "print('Eigenvalues in descending order:')\n",
    "for i in eig_pairs:\n",
    "    print(i[0])"
   ]
  },
  {
   "cell_type": "code",
   "execution_count": 88,
   "metadata": {},
   "outputs": [
    {
     "data": {
      "text/plain": [
       "[(5.031201185972806,\n",
       "  array([ 0.44447352,  0.44157147,  0.27701737,  0.42356333,  0.43281866,\n",
       "         -0.11869248,  0.38716084])),\n",
       " (1.1975728469710651,\n",
       "  array([ 0.02656355,  0.08400282, -0.52915125,  0.20597518, -0.11668963,\n",
       "          0.71688203,  0.37719327])),\n",
       " (0.6780034385804469,\n",
       "  array([-0.02587094,  0.05983912, -0.62969178,  0.21187966, -0.21648338,\n",
       "         -0.67950584,  0.2138972 ])),\n",
       " (0.06836447699210847,\n",
       "  array([ 0.19363997,  0.29545659, -0.3328164 ,  0.26340659,  0.19963039,\n",
       "          0.09246481, -0.80414995])),\n",
       " (0.018713609002734926,\n",
       "  array([ 0.20441167,  0.17427591, -0.33265481, -0.76609839,  0.46536555,\n",
       "         -0.03625822,  0.11134657])),\n",
       " (0.0053320456813728025,\n",
       "  array([-0.42643686, -0.47623853, -0.14162884,  0.27357647,  0.70301171,\n",
       "         -0.01964186,  0.04282974])),\n",
       " (0.0008123967994738842,\n",
       "  array([-0.73480569,  0.67075153,  0.0725527 , -0.04627605,  0.03928908,\n",
       "          0.00372346,  0.0344981 ]))]"
      ]
     },
     "execution_count": 88,
     "metadata": {},
     "output_type": "execute_result"
    }
   ],
   "source": [
    "eig_pairs"
   ]
  },
  {
   "cell_type": "code",
   "execution_count": 89,
   "metadata": {},
   "outputs": [
    {
     "data": {
      "text/plain": [
       "array([[ 0.44447352,  0.02656355, -0.02587094,  0.19363997,  0.20441167,\n",
       "        -0.73480569, -0.42643686],\n",
       "       [ 0.44157147,  0.08400282,  0.05983912,  0.29545659,  0.17427591,\n",
       "         0.67075153, -0.47623853],\n",
       "       [ 0.27701737, -0.52915125, -0.62969178, -0.3328164 , -0.33265481,\n",
       "         0.0725527 , -0.14162884],\n",
       "       [ 0.42356333,  0.20597518,  0.21187966,  0.26340659, -0.76609839,\n",
       "        -0.04627605,  0.27357647],\n",
       "       [ 0.43281866, -0.11668963, -0.21648338,  0.19963039,  0.46536555,\n",
       "         0.03928908,  0.70301171],\n",
       "       [-0.11869248,  0.71688203, -0.67950584,  0.09246481, -0.03625822,\n",
       "         0.00372346, -0.01964186],\n",
       "       [ 0.38716084,  0.37719327,  0.2138972 , -0.80414995,  0.11134657,\n",
       "         0.0344981 ,  0.04282974]])"
      ]
     },
     "execution_count": 89,
     "metadata": {},
     "output_type": "execute_result"
    }
   ],
   "source": [
    "eig_vecs"
   ]
  },
  {
   "cell_type": "code",
   "execution_count": 90,
   "metadata": {},
   "outputs": [],
   "source": [
    "tot = sum(eig_vals)\n",
    "var_exp = [(i / tot)*100 for i in sorted(eig_vals, reverse=True)]\n",
    "cum_var_exp = np.cumsum(var_exp)"
   ]
  },
  {
   "cell_type": "code",
   "execution_count": 117,
   "metadata": {},
   "outputs": [
    {
     "data": {
      "text/plain": [
       "7.000000000000009"
      ]
     },
     "execution_count": 117,
     "metadata": {},
     "output_type": "execute_result"
    }
   ],
   "source": [
    "tot"
   ]
  },
  {
   "cell_type": "code",
   "execution_count": 93,
   "metadata": {},
   "outputs": [
    {
     "data": {
      "text/plain": [
       "[71.87430265675428,\n",
       " 17.10818352815805,\n",
       " 9.685763408292086,\n",
       " 0.9766353856015484,\n",
       " 0.26733727146764147,\n",
       " 0.07617208116246851,\n",
       " 0.011605668563912616]"
      ]
     },
     "execution_count": 93,
     "metadata": {},
     "output_type": "execute_result"
    }
   ],
   "source": [
    "var_exp"
   ]
  },
  {
   "cell_type": "code",
   "execution_count": 91,
   "metadata": {},
   "outputs": [
    {
     "data": {
      "text/plain": [
       "array([ 71.87430266,  88.98248618,  98.66824959,  99.64488498,\n",
       "        99.91222225,  99.98839433, 100.        ])"
      ]
     },
     "execution_count": 91,
     "metadata": {},
     "output_type": "execute_result"
    }
   ],
   "source": [
    "cum_var_exp"
   ]
  },
  {
   "cell_type": "code",
   "execution_count": 110,
   "metadata": {},
   "outputs": [
    {
     "data": {
      "image/png": "[encoded data removed]",
      "text/plain": [
       "<Figure size 720x288 with 1 Axes>"
      ]
     },
     "metadata": {},
     "output_type": "display_data"
    }
   ],
   "source": [
    "with plt.style.context('seaborn-whitegrid'):\n",
    "    plt.figure(figsize=(10, 4))\n",
    "    plt.bar(range(7),var_exp, alpha=0.5, align='center',label='individual explained variance')\n",
    "    plt.step(range(7), cum_var_exp, where='mid',label='cumulative explained variance')    \n",
    "    plt.ylabel('Explained variance ratio')\n",
    "    plt.xlabel('Principal components')\n",
    "    plt.legend(loc='best')\n",
    "    plt.tight_layout()"
   ]
  },
  {
   "cell_type": "code",
   "execution_count": 154,
   "metadata": {},
   "outputs": [
    {
     "name": "stdout",
     "output_type": "stream",
     "text": [
      "Matrix W:\n",
      " [[ 0.44447352  0.02656355]\n",
      " [ 0.44157147  0.08400282]\n",
      " [ 0.27701737 -0.52915125]\n",
      " [ 0.42356333  0.20597518]\n",
      " [ 0.43281866 -0.11668963]\n",
      " [-0.11869248  0.71688203]\n",
      " [ 0.38716084  0.37719327]]\n"
     ]
    }
   ],
   "source": [
    "matrix_w = np.hstack((eig_pairs[0][1].reshape(7,1),\n",
    "                      eig_pairs[1][1].reshape(7,1)))\n",
    "\n",
    "print('Matrix W:\\n', matrix_w)"
   ]
  },
  {
   "cell_type": "code",
   "execution_count": 155,
   "metadata": {},
   "outputs": [
    {
     "data": {
      "text/plain": [
       "array([[ 1.42097769e-01,  2.15462437e-01,  6.06017918e-05, ...,\n",
       "         1.41701823e-01, -9.86151745e-01, -3.83577423e-01],\n",
       "       [ 1.11880257e-02,  8.22375713e-03,  4.28515270e-01, ...,\n",
       "         1.97432229e-01, -1.78816620e+00, -9.22013487e-01],\n",
       "       [-1.92066576e-01, -3.60200562e-01,  1.44238325e+00, ...,\n",
       "         2.08047544e-01, -6.67479334e-01, -1.18919199e+00],\n",
       "       ...,\n",
       "       [-5.67570840e-01, -6.90247348e-01,  7.33948301e-01, ...,\n",
       "        -7.06044846e-02,  3.07658816e+00, -7.18060432e-01],\n",
       "       [-1.03608992e+00, -1.03564515e+00, -8.01701104e-01, ...,\n",
       "        -1.12152071e+00, -6.81351965e-02, -7.42534799e-01],\n",
       "       [-8.77620233e-01, -9.35863561e-01, -1.10234659e-01, ...,\n",
       "        -7.55292327e-01,  1.29122264e+00, -7.03783718e-01]])"
      ]
     },
     "execution_count": 155,
     "metadata": {},
     "output_type": "execute_result"
    }
   ],
   "source": [
    "X_std"
   ]
  },
  {
   "cell_type": "code",
   "execution_count": 156,
   "metadata": {},
   "outputs": [],
   "source": [
    "Y = X_std.dot(matrix_w)"
   ]
  },
  {
   "cell_type": "code",
   "execution_count": 157,
   "metadata": {},
   "outputs": [
    {
     "data": {
      "text/plain": [
       "array([[ 3.17047052e-01, -7.83669015e-01],\n",
       "       [-3.38617773e-03, -1.91321367e+00],\n",
       "       [-4.59443341e-01, -1.90722525e+00],\n",
       "       [-5.91935651e-01, -1.93106922e+00],\n",
       "       [ 1.10291005e+00, -2.06809003e+00],\n",
       "       [-3.36815150e-01, -1.63691626e+00],\n",
       "       [-1.45602498e-01, -4.36414570e-01],\n",
       "       [-4.25439933e-01, -1.39015330e+00],\n",
       "       [ 1.76718434e+00, -3.07528830e-01],\n",
       "       [ 1.44119415e+00, -1.01106830e+00],\n",
       "       [ 6.71107449e-02,  4.29312461e-01],\n",
       "       [-5.72683493e-01, -1.55824408e+00],\n",
       "       [-9.31414541e-01, -8.73925640e-01],\n",
       "       [-9.14882766e-01, -8.71940034e-01],\n",
       "       [-1.00836149e+00, -9.58530316e-01],\n",
       "       [-5.15522337e-01, -1.05872649e+00],\n",
       "       [-7.84530515e-01, -1.14197655e+00],\n",
       "       [ 6.79029059e-01, -2.17036180e+00],\n",
       "       [-2.34416607e-01, -2.78779387e+00],\n",
       "       [-1.73767215e+00, -3.40140568e-01],\n",
       "       [-5.61482567e-01, -1.58659628e-01],\n",
       "       [-4.77524312e-01, -7.04746626e-01],\n",
       "       [ 8.57383186e-01, -2.32117455e+00],\n",
       "       [-1.97851961e+00, -1.59076489e+00],\n",
       "       [-1.57527098e-03, -1.01326624e+00],\n",
       "       [ 1.09652119e+00, -1.63066030e+00],\n",
       "       [-1.55728246e+00, -5.55134014e-01],\n",
       "       [-1.69804238e+00, -7.50450169e-01],\n",
       "       [-4.56618638e-01, -1.04421405e+00],\n",
       "       [-1.08377612e+00, -1.22309883e-01],\n",
       "       [-1.11122927e+00, -1.57950837e+00],\n",
       "       [ 3.76702505e-01, -2.52240590e-01],\n",
       "       [-4.81412775e-01,  4.74555191e-01],\n",
       "       [-6.04218625e-01, -1.11850647e+00],\n",
       "       [ 3.99081720e-01, -9.15781784e-01],\n",
       "       [ 1.16292585e+00, -1.30021914e+00],\n",
       "       [ 1.06466488e+00, -2.95039964e-01],\n",
       "       [ 1.85493815e+00, -1.08886280e+00],\n",
       "       [ 1.40615428e-01, -6.10291735e-01],\n",
       "       [-6.78081880e-01,  4.37680711e-01],\n",
       "       [-7.31656556e-01, -1.22711021e+00],\n",
       "       [-7.29770424e-01, -1.34712673e+00],\n",
       "       [-1.18083239e+00, -2.03558956e+00],\n",
       "       [ 7.41739812e-01,  4.26997384e-01],\n",
       "       [ 4.09355867e-01, -1.15341344e+00],\n",
       "       [-7.82334374e-01, -1.68405040e+00],\n",
       "       [ 5.14406927e-01, -1.65669157e+00],\n",
       "       [ 1.79966477e-01, -9.84981534e-01],\n",
       "       [-9.25997716e-02, -1.00137558e+00],\n",
       "       [ 1.25468050e-01, -6.88048942e-01],\n",
       "       [-3.26313626e-01, -2.02406202e-01],\n",
       "       [ 3.92392314e-01,  2.15180950e-01],\n",
       "       [-3.66484430e-01,  6.60878719e-01],\n",
       "       [-3.35388472e-01, -6.53453213e-01],\n",
       "       [-3.76744247e-02, -5.59364738e-01],\n",
       "       [ 2.19397132e-01, -6.40187654e-01],\n",
       "       [-3.14249159e-01, -1.11761141e+00],\n",
       "       [ 2.06695259e-01, -2.30246953e+00],\n",
       "       [ 5.29706106e-01, -1.30182191e+00],\n",
       "       [-2.40035654e+00, -1.26466877e+00],\n",
       "       [-2.74984930e+00, -1.33727587e+00],\n",
       "       [-2.63075608e+00, -1.89677793e+00],\n",
       "       [-1.96906304e+00, -1.62691534e+00],\n",
       "       [-1.25753988e+00, -7.22933991e-02],\n",
       "       [-1.55784828e+00, -1.88300511e+00],\n",
       "       [-1.61699937e+00, -1.91119270e+00],\n",
       "       [-2.15324906e-01, -1.37031647e+00],\n",
       "       [-5.54284777e-01, -7.33452198e-01],\n",
       "       [-1.98411141e-01, -1.19815842e+00],\n",
       "       [-1.79081064e+00,  1.67506061e-01],\n",
       "       [ 2.23549062e+00,  1.04968576e+00],\n",
       "       [ 1.48540908e+00,  1.21411066e+00],\n",
       "       [ 1.78461274e+00,  7.33018879e-01],\n",
       "       [ 3.53006550e+00, -4.96300699e-01],\n",
       "       [ 1.66484026e+00,  4.97570006e-01],\n",
       "       [ 1.27036103e+00,  1.21174489e+00],\n",
       "       [ 1.68512630e+00,  9.71590520e-01],\n",
       "       [ 4.17800860e+00,  1.53892056e+00],\n",
       "       [ 3.19269939e+00,  1.72044465e+00],\n",
       "       [ 1.79642560e+00, -4.58433392e-01],\n",
       "       [ 1.35828426e+00,  1.10089179e+00],\n",
       "       [ 2.75184742e+00,  6.70144136e-01],\n",
       "       [ 3.64873121e+00,  1.20775581e+00],\n",
       "       [ 3.71624680e+00, -1.77572641e-01],\n",
       "       [ 3.52673767e+00,  4.44748225e-01],\n",
       "       [ 2.92579832e+00, -9.09007349e-02],\n",
       "       [ 3.23100945e+00, -8.20227130e-01],\n",
       "       [ 3.41972134e+00,  1.57821846e+00],\n",
       "       [ 4.47569737e+00,  1.42993286e+00],\n",
       "       [ 4.43739394e+00,  9.69682794e-01],\n",
       "       [ 4.14781960e+00,  3.71485135e-01],\n",
       "       [ 3.17039145e+00, -1.67812023e-01],\n",
       "       [ 3.08515045e+00,  1.47951248e-01],\n",
       "       [ 2.76708163e+00,  7.95684133e-01],\n",
       "       [ 2.87702824e+00,  2.54022610e+00],\n",
       "       [ 1.77213232e+00,  8.30529913e-01],\n",
       "       [ 3.48405128e+00,  6.29085049e-01],\n",
       "       [ 3.35872196e+00,  5.70642744e-01],\n",
       "       [ 2.65611588e+00,  7.85296853e-01],\n",
       "       [ 3.03212692e+00, -1.23565201e-01],\n",
       "       [ 1.17328244e+00,  7.63107553e-02],\n",
       "       [ 2.47194639e+00, -9.83513781e-01],\n",
       "       [ 3.30541011e+00,  3.32400987e-01],\n",
       "       [ 3.24358647e+00,  8.39178307e-01],\n",
       "       [ 3.17302692e+00,  4.35766507e-01],\n",
       "       [ 2.89949749e+00, -4.75629119e-01],\n",
       "       [ 3.38892957e+00, -3.62259631e-01],\n",
       "       [ 2.12903143e+00,  4.21507481e-01],\n",
       "       [ 4.14857492e+00,  1.10023022e+00],\n",
       "       [ 2.83063980e+00, -6.55213034e-01],\n",
       "       [ 2.79399173e+00, -6.78534006e-01],\n",
       "       [ 3.13278001e+00,  7.34557053e-01],\n",
       "       [ 3.43469435e+00, -8.81940744e-01],\n",
       "       [ 2.79339128e+00,  2.21141823e+00],\n",
       "       [ 4.40090393e+00,  1.26898439e+00],\n",
       "       [ 3.44952552e+00, -5.17166417e-02],\n",
       "       [ 2.97504391e+00, -1.15294430e-01],\n",
       "       [ 3.40323444e+00,  1.75356168e-01],\n",
       "       [ 3.14059466e+00, -3.45353208e-03],\n",
       "       [ 3.99181744e+00,  5.86137049e-01],\n",
       "       [ 3.74965679e+00,  1.53501142e+00],\n",
       "       [ 2.35064725e+00,  5.22910817e-01],\n",
       "       [ 7.99216336e-01,  8.68136707e-01],\n",
       "       [ 2.83238929e+00, -6.55005495e-01],\n",
       "       [ 6.40351127e-01, -1.36398441e+00],\n",
       "       [ 3.07242617e+00,  2.09605930e-01],\n",
       "       [ 2.70301237e+00,  1.24706974e+00],\n",
       "       [ 2.59524072e+00, -7.89441973e-01],\n",
       "       [ 3.87379087e+00,  1.46732062e-01],\n",
       "       [ 1.83620478e+00,  3.97730638e-01],\n",
       "       [ 2.85910319e+00, -7.52856736e-01],\n",
       "       [ 3.13040155e+00, -2.67505761e-01],\n",
       "       [ 6.93173456e-01,  8.13675167e-01],\n",
       "       [ 1.00950051e+00,  8.36534026e-01],\n",
       "       [ 9.12856312e-01,  7.42110054e-01],\n",
       "       [ 5.68936576e-01, -7.75814425e-01],\n",
       "       [ 2.19529592e+00,  4.24830154e-01],\n",
       "       [ 7.99149663e-01,  4.55405433e-01],\n",
       "       [ 7.24306630e-01,  2.19013693e-01],\n",
       "       [ 1.46538667e+00,  2.13996204e-01],\n",
       "       [-1.35027740e+00,  1.22421437e+00],\n",
       "       [-1.09350280e+00,  1.79884796e+00],\n",
       "       [-1.24605922e+00,  1.11345738e+00],\n",
       "       [-1.90077852e+00,  6.29451249e-01],\n",
       "       [-2.46609342e+00,  1.07017952e+00],\n",
       "       [-2.97143253e+00,  2.18508200e+00],\n",
       "       [-2.60278034e+00, -2.44803256e-01],\n",
       "       [-1.85372955e+00, -2.18283191e-02],\n",
       "       [-1.54356722e+00,  1.30560093e-01],\n",
       "       [-3.19043461e+00,  1.93260252e+00],\n",
       "       [-2.19323497e+00,  9.62966052e-01],\n",
       "       [-2.46649392e+00,  2.45412598e+00],\n",
       "       [-1.98604045e+00,  1.25734679e+00],\n",
       "       [-2.93170345e+00,  3.60749949e-01],\n",
       "       [-2.58611808e+00,  6.06237640e-01],\n",
       "       [-2.95816928e+00,  1.76367282e+00],\n",
       "       [-2.55747836e+00, -5.06930003e-01],\n",
       "       [-2.48852395e+00,  1.77621293e+00],\n",
       "       [-2.53931671e+00,  1.65660094e+00],\n",
       "       [-2.66265839e+00,  1.64078819e+00],\n",
       "       [-1.48138174e+00,  3.64423793e-01],\n",
       "       [-1.99920677e+00,  5.64433519e-01],\n",
       "       [-2.37039181e+00,  8.56141339e-01],\n",
       "       [-1.72282657e+00,  3.73633899e-01],\n",
       "       [-2.96760486e+00,  1.05761406e+00],\n",
       "       [-1.82666680e+00, -1.43532582e+00],\n",
       "       [-1.90640891e+00,  9.18541953e-01],\n",
       "       [-1.84014311e+00,  4.51453901e-01],\n",
       "       [-2.89614406e+00,  8.79681035e-01],\n",
       "       [-2.87234873e+00,  2.39825293e-01],\n",
       "       [-3.09179735e+00,  2.32702499e+00],\n",
       "       [-2.81203741e+00,  1.45420148e+00],\n",
       "       [-2.88603824e+00,  3.96596270e-01],\n",
       "       [-2.86548980e+00,  1.20575412e+00],\n",
       "       [-3.21390638e+00,  1.79611034e+00],\n",
       "       [-2.91551158e+00,  1.85058701e-01],\n",
       "       [-2.92472945e+00,  1.16595846e+00],\n",
       "       [-3.29897440e+00,  8.01692215e-01],\n",
       "       [-2.80331004e+00,  1.07733610e+00],\n",
       "       [-1.77549982e+00, -6.82411592e-01],\n",
       "       [-2.87944543e+00,  2.52369051e-01],\n",
       "       [-1.72142948e+00,  2.19053235e-01],\n",
       "       [-2.03020745e+00,  4.80079007e-01],\n",
       "       [-2.45615851e+00,  5.72714504e-01],\n",
       "       [-1.43029221e+00,  1.43705765e+00],\n",
       "       [-2.65121221e+00,  1.09214372e+00],\n",
       "       [-2.41157972e+00,  1.64686890e+00],\n",
       "       [-3.17954711e+00,  4.19114361e-01],\n",
       "       [-2.95812987e+00,  1.47970167e+00],\n",
       "       [-3.27976258e+00, -9.54554960e-02],\n",
       "       [-3.17351966e+00,  9.97378098e-01],\n",
       "       [-2.67770368e+00, -9.91153389e-02],\n",
       "       [-1.91439166e+00, -7.15779252e-01],\n",
       "       [-3.23131694e+00,  1.16186189e+00],\n",
       "       [-1.98839224e+00, -1.42258641e-01],\n",
       "       [-1.59065129e+00, -4.22555325e-01],\n",
       "       [-1.69370462e+00,  1.24838347e-01],\n",
       "       [-1.09978315e+00, -2.59573115e-01],\n",
       "       [-1.62888513e+00,  1.17474710e-01],\n",
       "       [-1.45963267e+00, -1.75368601e+00],\n",
       "       [-2.00487210e+00,  5.92070467e-01],\n",
       "       [-1.61206890e+00, -2.14057739e+00],\n",
       "       [-2.81495737e+00, -5.13213623e-01],\n",
       "       [-1.84362278e+00,  1.34137404e+00],\n",
       "       [-2.00513076e+00, -8.58920142e-02],\n",
       "       [-1.99110719e+00, -8.65955555e-01],\n",
       "       [-2.72686452e+00,  2.08189724e-01],\n",
       "       [-1.40363281e+00,  1.29859258e+00],\n",
       "       [-2.33932776e+00, -9.96986962e-02],\n",
       "       [-1.95595293e+00,  5.25071183e-01]])"
      ]
     },
     "execution_count": 157,
     "metadata": {},
     "output_type": "execute_result"
    }
   ],
   "source": [
    "Y"
   ]
  },
  {
   "cell_type": "code",
   "execution_count": 220,
   "metadata": {},
   "outputs": [
    {
     "name": "stderr",
     "output_type": "stream",
     "text": [
      "C:\\ProgramData\\Anaconda3\\lib\\site-packages\\ipykernel_launcher.py:2: DeprecationWarning: \n",
      ".ix is deprecated. Please use\n",
      ".loc for label based indexing or\n",
      ".iloc for positional indexing\n",
      "\n",
      "See the documentation here:\n",
      "http://pandas.pydata.org/pandas-docs/stable/indexing.html#ix-indexer-is-deprecated\n",
      "  \n"
     ]
    }
   ],
   "source": [
    "seeds_df = pd.read_csv('data_seeds.csv')\n",
    "y=seeds_df.ix[:,7]"
   ]
  },
  {
   "cell_type": "code",
   "execution_count": 159,
   "metadata": {},
   "outputs": [
    {
     "data": {
      "image/png": "[encoded data removed]",
      "text/plain": [
       "<Figure size 432x288 with 1 Axes>"
      ]
     },
     "metadata": {},
     "output_type": "display_data"
    }
   ],
   "source": [
    "with plt.style.context('seaborn-whitegrid'):\n",
    "    plt.figure(figsize=(6, 4))\n",
    "    for lab, col in zip(('Canadian wheat', 'Kama wheat', 'Rosa wheat'),\n",
    "                        ('blue', 'red', 'green')):\n",
    "        plt.scatter(Y[y==lab, 0],\n",
    "                    Y[y==lab, 1],\n",
    "                    label=lab,\n",
    "                    c=col)\n",
    "    plt.xlabel('Principal Component 1')\n",
    "    plt.ylabel('Principal Component 2')\n",
    "    plt.legend(loc='lower right')\n",
    "    plt.tight_layout()\n",
    "    plt.show()"
   ]
  },
  {
   "cell_type": "code",
   "execution_count": 186,
   "metadata": {},
   "outputs": [],
   "source": [
    "from sklearn.decomposition import PCA as sklearnPCA\n",
    "sklearn_pca = sklearnPCA(n_components=3)\n",
    "Y_sklearn = sklearn_pca.fit_transform(X_std)"
   ]
  },
  {
   "cell_type": "code",
   "execution_count": 187,
   "metadata": {},
   "outputs": [
    {
     "data": {
      "text/plain": [
       "array([[ 3.17047052e-01,  7.83669015e-01, -6.31010011e-01],\n",
       "       [-3.38617773e-03,  1.91321367e+00, -6.69754458e-01],\n",
       "       [-4.59443341e-01,  1.90722525e+00,  9.32488818e-01],\n",
       "       [-5.91935651e-01,  1.93106922e+00,  4.99310922e-01],\n",
       "       [ 1.10291005e+00,  2.06809003e+00,  5.67054118e-02],\n",
       "       [-3.36815150e-01,  1.63691626e+00,  4.38913151e-01],\n",
       "       [-1.45602498e-01,  4.36414570e-01,  3.01945052e-01],\n",
       "       [-4.25439933e-01,  1.39015330e+00,  4.01288373e-01],\n",
       "       [ 1.76718434e+00,  3.07528830e-01, -9.68165725e-01],\n",
       "       [ 1.44119415e+00,  1.01106830e+00, -3.83042144e-01],\n",
       "       [ 6.71107449e-02, -4.29312461e-01,  3.25292810e-01],\n",
       "       [-5.72683493e-01,  1.55824408e+00, -4.21773063e-01],\n",
       "       [-9.31414541e-01,  8.73925640e-01,  9.48782466e-01],\n",
       "       [-9.14882766e-01,  8.71940034e-01,  1.35349927e-01],\n",
       "       [-1.00836149e+00,  9.58530316e-01, -2.09395370e-03],\n",
       "       [-5.15522337e-01,  1.05872649e+00,  1.43548717e+00],\n",
       "       [-7.84530515e-01,  1.14197655e+00,  2.57348810e+00],\n",
       "       [ 6.79029059e-01,  2.17036180e+00,  3.29858004e-01],\n",
       "       [-2.34416607e-01,  2.78779387e+00,  9.75677530e-01],\n",
       "       [-1.73767215e+00,  3.40140568e-01,  4.32500369e-01],\n",
       "       [-5.61482567e-01,  1.58659628e-01, -6.07274422e-01],\n",
       "       [-4.77524312e-01,  7.04746626e-01, -3.36818076e-01],\n",
       "       [ 8.57383186e-01,  2.32117455e+00, -3.07365386e-01],\n",
       "       [-1.97851961e+00,  1.59076489e+00, -8.58143003e-01],\n",
       "       [-1.57527098e-03,  1.01326624e+00, -9.21350974e-01],\n",
       "       [ 1.09652119e+00,  1.63066030e+00, -8.72074754e-01],\n",
       "       [-1.55728246e+00,  5.55134014e-01, -7.94026592e-02],\n",
       "       [-1.69804238e+00,  7.50450169e-01, -7.36527493e-01],\n",
       "       [-4.56618638e-01,  1.04421405e+00,  5.78795041e-02],\n",
       "       [-1.08377612e+00,  1.22309883e-01, -2.69027996e-01],\n",
       "       [-1.11122927e+00,  1.57950837e+00, -1.32380971e+00],\n",
       "       [ 3.76702505e-01,  2.52240590e-01, -2.33362549e-02],\n",
       "       [-4.81412775e-01, -4.74555191e-01, -4.20314884e-01],\n",
       "       [-6.04218625e-01,  1.11850647e+00, -5.24866670e-01],\n",
       "       [ 3.99081720e-01,  9.15781784e-01, -5.10330623e-01],\n",
       "       [ 1.16292585e+00,  1.30021914e+00,  1.94152557e-01],\n",
       "       [ 1.06466488e+00,  2.95039964e-01, -3.82361890e-01],\n",
       "       [ 1.85493815e+00,  1.08886280e+00,  7.43954599e-01],\n",
       "       [ 1.40615428e-01,  6.10291735e-01,  8.37474024e-02],\n",
       "       [-6.78081880e-01, -4.37680711e-01,  2.30128307e+00],\n",
       "       [-7.31656556e-01,  1.22711021e+00,  1.22633852e-01],\n",
       "       [-7.29770424e-01,  1.34712673e+00, -8.10106774e-02],\n",
       "       [-1.18083239e+00,  2.03558956e+00,  7.43413171e-01],\n",
       "       [ 7.41739812e-01, -4.26997384e-01,  6.51292969e-01],\n",
       "       [ 4.09355867e-01,  1.15341344e+00,  7.21402118e-01],\n",
       "       [-7.82334374e-01,  1.68405040e+00, -4.74034025e-01],\n",
       "       [ 5.14406927e-01,  1.65669157e+00, -4.95315267e-01],\n",
       "       [ 1.79966477e-01,  9.84981534e-01,  3.24927263e-01],\n",
       "       [-9.25997716e-02,  1.00137558e+00,  2.94541533e-02],\n",
       "       [ 1.25468050e-01,  6.88048942e-01, -8.06692825e-01],\n",
       "       [-3.26313626e-01,  2.02406202e-01,  3.81405532e-01],\n",
       "       [ 3.92392314e-01, -2.15180950e-01,  1.61633644e+00],\n",
       "       [-3.66484430e-01, -6.60878719e-01, -3.96401080e-01],\n",
       "       [-3.35388472e-01,  6.53453213e-01,  2.68614319e-01],\n",
       "       [-3.76744247e-02,  5.59364738e-01, -1.59076983e+00],\n",
       "       [ 2.19397132e-01,  6.40187654e-01, -1.02296521e+00],\n",
       "       [-3.14249159e-01,  1.11761141e+00,  2.29940763e-01],\n",
       "       [ 2.06695259e-01,  2.30246953e+00, -1.66120574e-02],\n",
       "       [ 5.29706106e-01,  1.30182191e+00, -2.25607893e-01],\n",
       "       [-2.40035654e+00,  1.26466877e+00, -1.33684772e+00],\n",
       "       [-2.74984930e+00,  1.33727587e+00, -6.55112697e-02],\n",
       "       [-2.63075608e+00,  1.89677793e+00,  1.93087024e-01],\n",
       "       [-1.96906304e+00,  1.62691534e+00,  8.82953634e-01],\n",
       "       [-1.25753988e+00,  7.22933991e-02,  2.88589681e-01],\n",
       "       [-1.55784828e+00,  1.88300511e+00, -7.85226845e-01],\n",
       "       [-1.61699937e+00,  1.91119270e+00,  3.75766546e-01],\n",
       "       [-2.15324906e-01,  1.37031647e+00, -9.62016005e-01],\n",
       "       [-5.54284777e-01,  7.33452198e-01, -8.22019555e-01],\n",
       "       [-1.98411141e-01,  1.19815842e+00, -9.51715917e-01],\n",
       "       [-1.79081064e+00, -1.67506061e-01, -6.94332397e-01],\n",
       "       [ 2.23549062e+00, -1.04968576e+00, -3.49307311e-01],\n",
       "       [ 1.48540908e+00, -1.21411066e+00, -7.62048636e-02],\n",
       "       [ 1.78461274e+00, -7.33018879e-01,  3.47446119e-01],\n",
       "       [ 3.53006550e+00,  4.96300699e-01,  4.45893272e-01],\n",
       "       [ 1.66484026e+00, -4.97570006e-01,  7.01514723e-02],\n",
       "       [ 1.27036103e+00, -1.21174489e+00,  1.19903606e-01],\n",
       "       [ 1.68512630e+00, -9.71590520e-01, -6.30376923e-01],\n",
       "       [ 4.17800860e+00, -1.53892056e+00, -1.80191877e-01],\n",
       "       [ 3.19269939e+00, -1.72044465e+00,  8.35121779e-02],\n",
       "       [ 1.79642560e+00,  4.58433392e-01,  2.44404739e-03],\n",
       "       [ 1.35828426e+00, -1.10089179e+00,  9.06552236e-01],\n",
       "       [ 2.75184742e+00, -6.70144136e-01,  1.36587289e+00],\n",
       "       [ 3.64873121e+00, -1.20775581e+00,  7.92711477e-01],\n",
       "       [ 3.71624680e+00,  1.77572641e-01, -1.32763205e+00],\n",
       "       [ 3.52673767e+00, -4.44748225e-01, -5.85450500e-01],\n",
       "       [ 2.92579832e+00,  9.09007349e-02, -5.61623541e-01],\n",
       "       [ 3.23100945e+00,  8.20227130e-01, -5.13262137e-01],\n",
       "       [ 3.41972134e+00, -1.57821846e+00, -1.06469533e+00],\n",
       "       [ 4.47569737e+00, -1.42993286e+00,  1.25533572e+00],\n",
       "       [ 4.43739394e+00, -9.69682794e-01,  1.04522521e+00],\n",
       "       [ 4.14781960e+00, -3.71485135e-01, -1.36748146e+00],\n",
       "       [ 3.17039145e+00,  1.67812023e-01,  1.95504163e-01],\n",
       "       [ 3.08515045e+00, -1.47951248e-01, -7.06478132e-02],\n",
       "       [ 2.76708163e+00, -7.95684133e-01,  1.90330911e+00],\n",
       "       [ 2.87702824e+00, -2.54022610e+00, -1.01033662e+00],\n",
       "       [ 1.77213232e+00, -8.30529913e-01, -5.70653564e-01],\n",
       "       [ 3.48405128e+00, -6.29085049e-01, -2.60893854e-01],\n",
       "       [ 3.35872196e+00, -5.70642744e-01, -1.50248701e+00],\n",
       "       [ 2.65611588e+00, -7.85296853e-01, -1.16697374e+00],\n",
       "       [ 3.03212692e+00,  1.23565201e-01, -8.04353909e-01],\n",
       "       [ 1.17328244e+00, -7.63107553e-02,  6.51646706e-01],\n",
       "       [ 2.47194639e+00,  9.83513781e-01, -8.01323891e-02],\n",
       "       [ 3.30541011e+00, -3.32400987e-01,  8.31443670e-01],\n",
       "       [ 3.24358647e+00, -8.39178307e-01, -6.63639338e-01],\n",
       "       [ 3.17302692e+00, -4.35766507e-01, -2.16030686e-01],\n",
       "       [ 2.89949749e+00,  4.75629119e-01, -1.08960282e-01],\n",
       "       [ 3.38892957e+00,  3.62259631e-01,  2.15732028e-01],\n",
       "       [ 2.12903143e+00, -4.21507481e-01, -1.38089448e-02],\n",
       "       [ 4.14857492e+00, -1.10023022e+00, -8.63868452e-01],\n",
       "       [ 2.83063980e+00,  6.55213034e-01, -7.42843944e-01],\n",
       "       [ 2.79399173e+00,  6.78534006e-01, -2.44152402e-01],\n",
       "       [ 3.13278001e+00, -7.34557053e-01, -3.13241189e-01],\n",
       "       [ 3.43469435e+00,  8.81940744e-01, -1.61115000e-02],\n",
       "       [ 2.79339128e+00, -2.21141823e+00,  1.01822590e+00],\n",
       "       [ 4.40090393e+00, -1.26898439e+00,  3.48277436e-01],\n",
       "       [ 3.44952552e+00,  5.17166417e-02, -7.64779132e-01],\n",
       "       [ 2.97504391e+00,  1.15294430e-01,  1.24387934e+00],\n",
       "       [ 3.40323444e+00, -1.75356168e-01, -1.61568953e-01],\n",
       "       [ 3.14059466e+00,  3.45353208e-03,  4.90585011e-01],\n",
       "       [ 3.99181744e+00, -5.86137049e-01, -5.48579835e-01],\n",
       "       [ 3.74965679e+00, -1.53501142e+00,  1.17144084e+00],\n",
       "       [ 2.35064725e+00, -5.22910817e-01, -2.07966160e-01],\n",
       "       [ 7.99216336e-01, -8.68136707e-01, -2.05263006e-01],\n",
       "       [ 2.83238929e+00,  6.55005495e-01,  5.32180655e-01],\n",
       "       [ 6.40351127e-01,  1.36398441e+00,  1.20393982e+00],\n",
       "       [ 3.07242617e+00, -2.09605930e-01,  8.18010269e-01],\n",
       "       [ 2.70301237e+00, -1.24706974e+00, -1.94909967e-01],\n",
       "       [ 2.59524072e+00,  7.89441973e-01, -7.39286129e-02],\n",
       "       [ 3.87379087e+00, -1.46732062e-01, -1.27768080e+00],\n",
       "       [ 1.83620478e+00, -3.97730638e-01,  1.53843291e+00],\n",
       "       [ 2.85910319e+00,  7.52856736e-01,  5.17332753e-01],\n",
       "       [ 3.13040155e+00,  2.67505761e-01,  5.88193823e-02],\n",
       "       [ 6.93173456e-01, -8.13675167e-01,  3.76944121e-02],\n",
       "       [ 1.00950051e+00, -8.36534026e-01, -1.37852540e-01],\n",
       "       [ 9.12856312e-01, -7.42110054e-01,  6.92845227e-01],\n",
       "       [ 5.68936576e-01,  7.75814425e-01,  8.80432882e-01],\n",
       "       [ 2.19529592e+00, -4.24830154e-01, -2.23242569e-01],\n",
       "       [ 7.99149663e-01, -4.55405433e-01, -1.35079174e+00],\n",
       "       [ 7.24306630e-01, -2.19013693e-01, -1.03942063e+00],\n",
       "       [ 1.46538667e+00, -2.13996204e-01,  1.70678327e-01],\n",
       "       [-1.35027740e+00, -1.22421437e+00,  5.44349622e-02],\n",
       "       [-1.09350280e+00, -1.79884796e+00,  1.18786151e+00],\n",
       "       [-1.24605922e+00, -1.11345738e+00,  8.66604673e-01],\n",
       "       [-1.90077852e+00, -6.29451249e-01,  7.87892310e-01],\n",
       "       [-2.46609342e+00, -1.07017952e+00, -8.14718932e-01],\n",
       "       [-2.97143253e+00, -2.18508200e+00, -4.01606483e-01],\n",
       "       [-2.60278034e+00,  2.44803256e-01, -1.60922854e+00],\n",
       "       [-1.85372955e+00,  2.18283191e-02,  4.00065639e-01],\n",
       "       [-1.54356722e+00, -1.30560093e-01, -8.07786371e-01],\n",
       "       [-3.19043461e+00, -1.93260252e+00, -8.82002489e-01],\n",
       "       [-2.19323497e+00, -9.62966052e-01,  1.18537476e-01],\n",
       "       [-2.46649392e+00, -2.45412598e+00,  1.72394454e-01],\n",
       "       [-1.98604045e+00, -1.25734679e+00, -6.25556799e-01],\n",
       "       [-2.93170345e+00, -3.60749949e-01, -1.26722186e+00],\n",
       "       [-2.58611808e+00, -6.06237640e-01, -6.88964165e-01],\n",
       "       [-2.95816928e+00, -1.76367282e+00, -2.98219503e-01],\n",
       "       [-2.55747836e+00,  5.06930003e-01, -2.00882464e-01],\n",
       "       [-2.48852395e+00, -1.77621293e+00, -1.25734965e+00],\n",
       "       [-2.53931671e+00, -1.65660094e+00, -1.55263890e+00],\n",
       "       [-2.66265839e+00, -1.64078819e+00, -5.23265444e-01],\n",
       "       [-1.48138174e+00, -3.64423793e-01, -1.19019892e+00],\n",
       "       [-1.99920677e+00, -5.64433519e-01, -3.43622299e-01],\n",
       "       [-2.37039181e+00, -8.56141339e-01, -7.92757520e-02],\n",
       "       [-1.72282657e+00, -3.73633899e-01,  2.05483822e-02],\n",
       "       [-2.96760486e+00, -1.05761406e+00,  1.04557976e+00],\n",
       "       [-1.82666680e+00,  1.43532582e+00, -1.95081383e-01],\n",
       "       [-1.90640891e+00, -9.18541953e-01, -8.41043966e-02],\n",
       "       [-1.84014311e+00, -4.51453901e-01, -8.24698445e-01],\n",
       "       [-2.89614406e+00, -8.79681035e-01, -7.97742922e-01],\n",
       "       [-2.87234873e+00, -2.39825293e-01, -8.93804121e-01],\n",
       "       [-3.09179735e+00, -2.32702499e+00, -4.73044392e-02],\n",
       "       [-2.81203741e+00, -1.45420148e+00,  9.03085254e-01],\n",
       "       [-2.88603824e+00, -3.96596270e-01, -3.07986290e-01],\n",
       "       [-2.86548980e+00, -1.20575412e+00,  8.81529105e-02],\n",
       "       [-3.21390638e+00, -1.79611034e+00, -1.01263747e+00],\n",
       "       [-2.91551158e+00, -1.85058701e-01,  4.30303944e-01],\n",
       "       [-2.92472945e+00, -1.16595846e+00, -1.33642117e-01],\n",
       "       [-3.29897440e+00, -8.01692215e-01, -4.44761771e-01],\n",
       "       [-2.80331004e+00, -1.07733610e+00,  4.96481403e-01],\n",
       "       [-1.77549982e+00,  6.82411592e-01, -1.56324081e+00],\n",
       "       [-2.87944543e+00, -2.52369051e-01,  4.46654637e-01],\n",
       "       [-1.72142948e+00, -2.19053235e-01,  7.67048032e-01],\n",
       "       [-2.03020745e+00, -4.80079007e-01,  3.00036919e-01],\n",
       "       [-2.45615851e+00, -5.72714504e-01,  4.96731946e-01],\n",
       "       [-1.43029221e+00, -1.43705765e+00,  6.63591711e-01],\n",
       "       [-2.65121221e+00, -1.09214372e+00, -1.28043551e+00],\n",
       "       [-2.41157972e+00, -1.64686890e+00, -9.85090982e-01],\n",
       "       [-3.17954711e+00, -4.19114361e-01, -5.19188094e-01],\n",
       "       [-2.95812987e+00, -1.47970167e+00,  1.67404688e+00],\n",
       "       [-3.27976258e+00,  9.54554960e-02,  8.19346127e-01],\n",
       "       [-3.17351966e+00, -9.97378098e-01,  8.67302277e-02],\n",
       "       [-2.67770368e+00,  9.91153389e-02, -4.33720312e-02],\n",
       "       [-1.91439166e+00,  7.15779252e-01,  4.07383344e-01],\n",
       "       [-3.23131694e+00, -1.16186189e+00, -6.53875928e-01],\n",
       "       [-1.98839224e+00,  1.42258641e-01,  2.38825286e-01],\n",
       "       [-1.59065129e+00,  4.22555325e-01,  1.32774778e+00],\n",
       "       [-1.69370462e+00, -1.24838347e-01,  1.31233050e+00],\n",
       "       [-1.09978315e+00,  2.59573115e-01,  1.04448030e+00],\n",
       "       [-1.62888513e+00, -1.17474710e-01, -7.86959300e-01],\n",
       "       [-1.45963267e+00,  1.75368601e+00,  7.77933257e-01],\n",
       "       [-2.00487210e+00, -5.92070467e-01,  7.62118832e-01],\n",
       "       [-1.61206890e+00,  2.14057739e+00,  6.43676434e-01],\n",
       "       [-2.81495737e+00,  5.13213623e-01,  4.22914488e-01],\n",
       "       [-1.84362278e+00, -1.34137404e+00,  2.92150118e+00],\n",
       "       [-2.00513076e+00,  8.58920142e-02, -4.53430544e-02],\n",
       "       [-1.99110719e+00,  8.65955555e-01,  5.13302614e-01],\n",
       "       [-2.72686452e+00, -2.08189724e-01, -5.90586826e-02],\n",
       "       [-1.40363281e+00, -1.29859258e+00,  2.90581137e+00],\n",
       "       [-2.33932776e+00,  9.96986962e-02, -3.82515114e-01],\n",
       "       [-1.95595293e+00, -5.25071183e-01,  1.01311340e+00]])"
      ]
     },
     "execution_count": 187,
     "metadata": {},
     "output_type": "execute_result"
    }
   ],
   "source": [
    "Y_sklearn #check output Y and Y_sklearn is simliar"
   ]
  },
  {
   "cell_type": "code",
   "execution_count": 188,
   "metadata": {},
   "outputs": [
    {
     "data": {
      "image/png": "[encoded data removed]",
      "text/plain": [
       "<Figure size 432x288 with 1 Axes>"
      ]
     },
     "metadata": {},
     "output_type": "display_data"
    }
   ],
   "source": [
    "with plt.style.context('seaborn-whitegrid'):\n",
    "    plt.figure(figsize=(6, 4))\n",
    "    for lab, col in zip(('Canadian wheat', 'Kama wheat', 'Rosa wheat'),\n",
    "                        ('blue', 'red', 'green')):\n",
    "        plt.scatter(Y_sklearn[y==lab, 0],\n",
    "                    Y_sklearn[y==lab, 1],\n",
    "                    label=lab,\n",
    "                    c=col)\n",
    "    plt.xlabel('Principal Component 1')\n",
    "    plt.ylabel('Principal Component 2')\n",
    "    plt.legend(loc='lower right')\n",
    "    plt.tight_layout()\n",
    "    plt.show()"
   ]
  },
  {
   "cell_type": "code",
   "execution_count": 189,
   "metadata": {},
   "outputs": [],
   "source": [
    "var=sklearn_pca.explained_variance_ratio_"
   ]
  },
  {
   "cell_type": "code",
   "execution_count": 190,
   "metadata": {},
   "outputs": [
    {
     "data": {
      "text/plain": [
       "array([0.71874303, 0.17108184, 0.09685763])"
      ]
     },
     "execution_count": 190,
     "metadata": {},
     "output_type": "execute_result"
    }
   ],
   "source": [
    "var"
   ]
  },
  {
   "cell_type": "markdown",
   "metadata": {},
   "source": [
    "### Points to Remember for PCA\n",
    "1. PCA is used to overcome features redundancy in a data set.\n",
    "2. These features are low dimensional in nature.\n",
    "3. These features a.k.a components are a resultant of normalized linear combination of original predictor variables.\n",
    "4. These components aim to capture as much information as possible with high explained variance.\n",
    "5. The first component has the highest variance followed by second, third and so on.\n",
    "6. The components must be uncorrelated (remember orthogonal direction ? ).\n",
    "7. Normalizing data becomes extremely important when the predictors are measured in different units.\n",
    "8. PCA works best on data set having 3 or higher dimensions. Because, with higher dimensions, it becomes increasingly difficult to make interpretations from the resultant cloud of data.\n",
    "9. PCA is applied on a data set with numeric variables.\n",
    "10. PCA is a tool which helps to produce better visualizations of high dimensional data.\n"
   ]
  },
  {
   "cell_type": "code",
   "execution_count": 191,
   "metadata": {},
   "outputs": [],
   "source": [
    "#Sample \n",
    "labels1 = model.fit_predict(Y_sklearn)"
   ]
  },
  {
   "cell_type": "code",
   "execution_count": 192,
   "metadata": {},
   "outputs": [],
   "source": [
    "df1 = pd.DataFrame({'labels': label_pred, 'varieties': varieties})\n",
    "ct1 = pd.crosstab(df1['labels'], df1['varieties'])"
   ]
  },
  {
   "cell_type": "code",
   "execution_count": 193,
   "metadata": {},
   "outputs": [
    {
     "data": {
      "text/html": [
       "<div>\n",
       "<style scoped>\n",
       "    .dataframe tbody tr th:only-of-type {\n",
       "        vertical-align: middle;\n",
       "    }\n",
       "\n",
       "    .dataframe tbody tr th {\n",
       "        vertical-align: top;\n",
       "    }\n",
       "\n",
       "    .dataframe thead th {\n",
       "        text-align: right;\n",
       "    }\n",
       "</style>\n",
       "<table border=\"1\" class=\"dataframe\">\n",
       "  <thead>\n",
       "    <tr style=\"text-align: right;\">\n",
       "      <th>varieties</th>\n",
       "      <th>Canadian wheat</th>\n",
       "      <th>Kama wheat</th>\n",
       "      <th>Rosa wheat</th>\n",
       "    </tr>\n",
       "    <tr>\n",
       "      <th>labels</th>\n",
       "      <th></th>\n",
       "      <th></th>\n",
       "      <th></th>\n",
       "    </tr>\n",
       "  </thead>\n",
       "  <tbody>\n",
       "    <tr>\n",
       "      <th>0</th>\n",
       "      <td>61</td>\n",
       "      <td>3</td>\n",
       "      <td>0</td>\n",
       "    </tr>\n",
       "    <tr>\n",
       "      <th>1</th>\n",
       "      <td>0</td>\n",
       "      <td>1</td>\n",
       "      <td>64</td>\n",
       "    </tr>\n",
       "    <tr>\n",
       "      <th>2</th>\n",
       "      <td>9</td>\n",
       "      <td>66</td>\n",
       "      <td>6</td>\n",
       "    </tr>\n",
       "  </tbody>\n",
       "</table>\n",
       "</div>"
      ],
      "text/plain": [
       "varieties  Canadian wheat  Kama wheat  Rosa wheat\n",
       "labels                                           \n",
       "0                      61           3           0\n",
       "1                       0           1          64\n",
       "2                       9          66           6"
      ]
     },
     "execution_count": 193,
     "metadata": {},
     "output_type": "execute_result"
    }
   ],
   "source": [
    "ct"
   ]
  },
  {
   "cell_type": "code",
   "execution_count": 222,
   "metadata": {},
   "outputs": [],
   "source": [
    "seeds_df['grain_variety']=seeds_df['grain_variety'].map({'Canadian wheat':0,'Kama wheat':1,'Rosa wheat':2})"
   ]
  },
  {
   "cell_type": "code",
   "execution_count": 225,
   "metadata": {},
   "outputs": [],
   "source": [
    "y_data=seeds_df['grain_variety']"
   ]
  },
  {
   "cell_type": "code",
   "execution_count": 226,
   "metadata": {},
   "outputs": [],
   "source": [
    "from sklearn.model_selection import train_test_split\n",
    "x_train,x_test,y_train,y_test=train_test_split(Y_sklearn,y_data,test_size=0.3,random_state=100)"
   ]
  },
  {
   "cell_type": "code",
   "execution_count": 227,
   "metadata": {},
   "outputs": [
    {
     "data": {
      "text/plain": [
       "DecisionTreeClassifier(class_weight=None, criterion='gini', max_depth=None,\n",
       "            max_features=None, max_leaf_nodes=None,\n",
       "            min_impurity_decrease=0.0, min_impurity_split=None,\n",
       "            min_samples_leaf=1, min_samples_split=2,\n",
       "            min_weight_fraction_leaf=0.0, presort=False, random_state=None,\n",
       "            splitter='best')"
      ]
     },
     "execution_count": 227,
     "metadata": {},
     "output_type": "execute_result"
    }
   ],
   "source": [
    "from sklearn.tree import DecisionTreeClassifier\n",
    "dt=DecisionTreeClassifier()\n",
    "dt.fit(x_train,y_train)"
   ]
  },
  {
   "cell_type": "code",
   "execution_count": 228,
   "metadata": {},
   "outputs": [],
   "source": [
    "y_pred=dt.predict(x_test)"
   ]
  },
  {
   "cell_type": "code",
   "execution_count": 229,
   "metadata": {},
   "outputs": [],
   "source": [
    "from sklearn.metrics import confusion_matrix,accuracy_score,classification_report,roc_auc_score,roc_curve,f1_score"
   ]
  },
  {
   "cell_type": "code",
   "execution_count": 230,
   "metadata": {},
   "outputs": [
    {
     "data": {
      "text/plain": [
       "array([[22,  4,  0],\n",
       "       [ 5, 11,  0],\n",
       "       [ 0,  1, 20]], dtype=int64)"
      ]
     },
     "execution_count": 230,
     "metadata": {},
     "output_type": "execute_result"
    }
   ],
   "source": [
    "confusion_matrix(y_test,y_pred)"
   ]
  },
  {
   "cell_type": "code",
   "execution_count": 234,
   "metadata": {},
   "outputs": [
    {
     "data": {
      "text/plain": [
       "0.8412698412698413"
      ]
     },
     "execution_count": 234,
     "metadata": {},
     "output_type": "execute_result"
    }
   ],
   "source": [
    "accuracy_score(y_test,y_pred)"
   ]
  },
  {
   "cell_type": "code",
   "execution_count": 231,
   "metadata": {},
   "outputs": [],
   "source": [
    "y_pred1=dt.predict(Y_sklearn)"
   ]
  },
  {
   "cell_type": "code",
   "execution_count": 233,
   "metadata": {},
   "outputs": [
    {
     "data": {
      "text/plain": [
       "array([[66,  4,  0],\n",
       "       [ 5, 65,  0],\n",
       "       [ 0,  1, 69]], dtype=int64)"
      ]
     },
     "execution_count": 233,
     "metadata": {},
     "output_type": "execute_result"
    }
   ],
   "source": [
    "confusion_matrix(y_data,y_pred1)"
   ]
  },
  {
   "cell_type": "code",
   "execution_count": 249,
   "metadata": {},
   "outputs": [
    {
     "data": {
      "text/plain": [
       "0.9523809523809523"
      ]
     },
     "execution_count": 249,
     "metadata": {},
     "output_type": "execute_result"
    }
   ],
   "source": [
    "accuracy_score(y_data,y_pred1)"
   ]
  },
  {
   "cell_type": "code",
   "execution_count": 235,
   "metadata": {},
   "outputs": [
    {
     "data": {
      "text/plain": [
       "KNeighborsClassifier(algorithm='auto', leaf_size=30, metric='minkowski',\n",
       "           metric_params=None, n_jobs=1, n_neighbors=5, p=2,\n",
       "           weights='uniform')"
      ]
     },
     "execution_count": 235,
     "metadata": {},
     "output_type": "execute_result"
    }
   ],
   "source": [
    "from sklearn.neighbors import KNeighborsClassifier\n",
    "knn=KNeighborsClassifier()\n",
    "knn.fit(x_train,y_train)"
   ]
  },
  {
   "cell_type": "code",
   "execution_count": 236,
   "metadata": {},
   "outputs": [],
   "source": [
    "y_pred_knn=knn.predict(x_test)"
   ]
  },
  {
   "cell_type": "code",
   "execution_count": 237,
   "metadata": {},
   "outputs": [
    {
     "data": {
      "text/plain": [
       "array([[25,  1,  0],\n",
       "       [ 0, 16,  0],\n",
       "       [ 0,  0, 21]], dtype=int64)"
      ]
     },
     "execution_count": 237,
     "metadata": {},
     "output_type": "execute_result"
    }
   ],
   "source": [
    "confusion_matrix(y_test,y_pred_knn)"
   ]
  },
  {
   "cell_type": "code",
   "execution_count": 240,
   "metadata": {},
   "outputs": [
    {
     "data": {
      "text/plain": [
       "0.9841269841269841"
      ]
     },
     "execution_count": 240,
     "metadata": {},
     "output_type": "execute_result"
    }
   ],
   "source": [
    "accuracy_score(y_test,y_pred_knn)"
   ]
  },
  {
   "cell_type": "code",
   "execution_count": 244,
   "metadata": {},
   "outputs": [
    {
     "data": {
      "text/plain": [
       "0.9842118665648076"
      ]
     },
     "execution_count": 244,
     "metadata": {},
     "output_type": "execute_result"
    }
   ],
   "source": [
    "f1_score(y_test,y_pred_knn,average='weighted')"
   ]
  },
  {
   "cell_type": "code",
   "execution_count": 245,
   "metadata": {},
   "outputs": [],
   "source": [
    "y_pred_knn1=knn.predict(Y_sklearn)"
   ]
  },
  {
   "cell_type": "code",
   "execution_count": 248,
   "metadata": {},
   "outputs": [
    {
     "data": {
      "text/plain": [
       "array([[67,  3,  0],\n",
       "       [ 4, 65,  1],\n",
       "       [ 0,  3, 67]], dtype=int64)"
      ]
     },
     "execution_count": 248,
     "metadata": {},
     "output_type": "execute_result"
    }
   ],
   "source": [
    "confusion_matrix(y_data,y_pred_knn1)"
   ]
  },
  {
   "cell_type": "code",
   "execution_count": 250,
   "metadata": {},
   "outputs": [
    {
     "data": {
      "text/plain": [
       "0.9476190476190476"
      ]
     },
     "execution_count": 250,
     "metadata": {},
     "output_type": "execute_result"
    }
   ],
   "source": [
    "accuracy_score(y_data,y_pred_knn1)"
   ]
  },
  {
   "cell_type": "code",
   "execution_count": 251,
   "metadata": {},
   "outputs": [
    {
     "data": {
      "text/plain": [
       "0.9477849727618461"
      ]
     },
     "execution_count": 251,
     "metadata": {},
     "output_type": "execute_result"
    }
   ],
   "source": [
    "f1_score(y_data,y_pred_knn1,average='weighted')"
   ]
  },
  {
   "cell_type": "markdown",
   "metadata": {},
   "source": [
    "## Pipeline "
   ]
  },
  {
   "cell_type": "code",
   "execution_count": 253,
   "metadata": {},
   "outputs": [],
   "source": [
    "from sklearn.pipeline import Pipeline,make_pipeline"
   ]
  },
  {
   "cell_type": "code",
   "execution_count": null,
   "metadata": {},
   "outputs": [],
   "source": [
    "pipe=Pipeline()\n",
    "m_pipe=make_pipeline()"
   ]
  }
 ],
 "metadata": {
  "anaconda-cloud": {},
  "kernelspec": {
   "display_name": "Python 3",
   "language": "python",
   "name": "python3"
  },
  "language_info": {
   "codemirror_mode": {
    "name": "ipython",
    "version": 3
   },
   "file_extension": ".py",
   "mimetype": "text/x-python",
   "name": "python",
   "nbconvert_exporter": "python",
   "pygments_lexer": "ipython3",
   "version": "3.6.5"
  }
 },
 "nbformat": 4,
 "nbformat_minor": 2
}
